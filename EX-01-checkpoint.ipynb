{
 "cells": [
  {
   "cell_type": "code",
   "execution_count": 16,
   "id": "60db68ba",
   "metadata": {},
   "outputs": [],
   "source": [
    "#Ex 01-Implementation of Univariate Linear Regression to fit a straight line using least squares\n",
    "#Name.Sudharshna Lakshmi S\n",
    "#Reg no.212221230110"
   ]
  },
  {
   "cell_type": "code",
   "execution_count": 1,
   "id": "8f54c852",
   "metadata": {},
   "outputs": [],
   "source": [
    "#import files\n",
    "import numpy as np\n",
    "import matplotlib.pyplot as plt"
   ]
  },
  {
   "cell_type": "code",
   "execution_count": 2,
   "id": "45393376",
   "metadata": {},
   "outputs": [],
   "source": [
    "#assign input\n",
    "\n",
    "X=np.array([0,1,2,3,4,5,6,7,8,9])\n",
    "Y=np.array([1,3,2,5,7,8,8,9,10,12])\n"
   ]
  },
  {
   "cell_type": "code",
   "execution_count": 3,
   "id": "53899e0e",
   "metadata": {},
   "outputs": [
    {
     "name": "stdout",
     "output_type": "stream",
     "text": [
      "X_mean 4.5\n",
      "y_mean 6.5\n"
     ]
    }
   ],
   "source": [
    "# mean values of input\n",
    "\n",
    "X_mean=np.mean(X)\n",
    "print(\"X_mean\",X_mean)\n",
    "Y_mean=np.mean(Y)\n",
    "print(\"y_mean\",Y_mean)"
   ]
  },
  {
   "cell_type": "code",
   "execution_count": 4,
   "id": "e4b29139",
   "metadata": {},
   "outputs": [],
   "source": [
    "num=0\n",
    "denum=0\n",
    "\n",
    "for i in range(len(X)):\n",
    "  num+=(X[i]-X_mean)*(Y[i]-Y_mean)\n",
    "  denum+=(X[i]-X_mean)**2"
   ]
  },
  {
   "cell_type": "code",
   "execution_count": 5,
   "id": "ca18ef73",
   "metadata": {},
   "outputs": [
    {
     "name": "stdout",
     "output_type": "stream",
     "text": [
      "m= 1.1696969696969697\n"
     ]
    }
   ],
   "source": [
    "# find m\n",
    "\n",
    "m=num/denum\n",
    "print(\"m=\",m)"
   ]
  },
  {
   "cell_type": "code",
   "execution_count": 6,
   "id": "5d86c13c",
   "metadata": {},
   "outputs": [
    {
     "name": "stdout",
     "output_type": "stream",
     "text": [
      "b= 1.2363636363636363\n"
     ]
    }
   ],
   "source": [
    "# find b\n",
    "print(\"Find b\")\n",
    "b=(Y_mean)-(m*X_mean)\n",
    "print(\"b=\",b)"
   ]
  },
  {
   "cell_type": "code",
   "execution_count": 7,
   "id": "3120a5b4",
   "metadata": {},
   "outputs": [
    {
     "name": "stdout",
     "output_type": "stream",
     "text": [
      "Y_pred= [ 1.23636364  2.40606061  3.57575758  4.74545455  5.91515152  7.08484848\n",
      "  8.25454545  9.42424242 10.59393939 11.76363636]\n"
     ]
    }
   ],
   "source": [
    "# find Y_pred\n",
    "\n",
    "Y_pred=m*X+b\n",
    "print(\"Y_pred=\",Y_pred)"
   ]
  },
  {
   "cell_type": "code",
   "execution_count": 8,
   "id": "1932a4f6",
   "metadata": {},
   "outputs": [
    {
     "data": {
      "image/png": "[encoded data removed]",
      "text/plain": [
       "<Figure size 432x288 with 1 Axes>"
      ]
     },
     "metadata": {
      "needs_background": "light"
     },
     "output_type": "display_data"
    }
   ],
   "source": [
    "#plot graph\n",
    "\n",
    "plt.scatter(X,Y,color='orange')\n",
    "plt.plot(X,Y_pred,color='maroon')\n",
    "plt.show()\n"
   ]
  }
 ],
 "metadata": {
  "kernelspec": {
   "display_name": "Python 3",
   "language": "python",
   "name": "python3"
  },
  "language_info": {
   "codemirror_mode": {
    "name": "ipython",
    "version": 3
   },
   "file_extension": ".py",
   "mimetype": "text/x-python",
   "name": "python",
   "nbconvert_exporter": "python",
   "pygments_lexer": "ipython3",
   "version": "3.8.8"
  }
 },
 "nbformat": 4,
 "nbformat_minor": 5
}
